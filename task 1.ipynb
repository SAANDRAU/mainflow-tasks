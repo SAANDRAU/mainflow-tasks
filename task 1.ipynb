{
 "cells": [
  {
   "cell_type": "code",
   "execution_count": 22,
   "id": "b6dcaa07-0310-4453-be20-08cfedf53ab3",
   "metadata": {},
   "outputs": [],
   "source": [
    "l1=[3,5,6,2]"
   ]
  },
  {
   "cell_type": "code",
   "execution_count": 2,
   "id": "aa5d1d7a-63f6-4743-8de6-09b2c5ed118d",
   "metadata": {},
   "outputs": [],
   "source": [
    "l1.append(8)"
   ]
  },
  {
   "cell_type": "code",
   "execution_count": 23,
   "id": "083a4a74-3768-4abd-a56b-f61ea695ca69",
   "metadata": {},
   "outputs": [
    {
     "name": "stdout",
     "output_type": "stream",
     "text": [
      "Appended list: [3, 5, 6, 2]\n"
     ]
    }
   ],
   "source": [
    "print(\"Appended list:\",l1)"
   ]
  },
  {
   "cell_type": "code",
   "execution_count": 4,
   "id": "b8816e97-e767-4fa7-93d7-3ba3513e379d",
   "metadata": {},
   "outputs": [],
   "source": [
    "l1.remove(2)"
   ]
  },
  {
   "cell_type": "code",
   "execution_count": 25,
   "id": "4ecf0979-0799-437e-b36b-2dbdd68d78ba",
   "metadata": {},
   "outputs": [
    {
     "name": "stdout",
     "output_type": "stream",
     "text": [
      "List after removing 2: [3, 5, 6, 2]\n"
     ]
    }
   ],
   "source": [
    "print(\"List after removing 2:\",l1)"
   ]
  },
  {
   "cell_type": "code",
   "execution_count": 27,
   "id": "f6401992-a6d6-4b26-96f2-80f58a1b5fe6",
   "metadata": {},
   "outputs": [],
   "source": [
    "l1[1]=1"
   ]
  },
  {
   "cell_type": "code",
   "execution_count": 29,
   "id": "14fc0b2b-a3d6-4709-ba61-766da8583884",
   "metadata": {},
   "outputs": [
    {
     "name": "stdout",
     "output_type": "stream",
     "text": [
      "List after changing element at index 1: [3, 1, 6, 2]\n"
     ]
    }
   ],
   "source": [
    "print(\"List after changing element at index 1:\",l1)"
   ]
  },
  {
   "cell_type": "code",
   "execution_count": 30,
   "id": "5a2c346d-faa4-4488-8ecb-2677651a6e6a",
   "metadata": {},
   "outputs": [],
   "source": [
    "d1= {'name': 'John', 'age': 25, 'city': 'New York'}"
   ]
  },
  {
   "cell_type": "code",
   "execution_count": 31,
   "id": "01fc3a40-6d11-45c0-8da4-589b1ccf7195",
   "metadata": {},
   "outputs": [
    {
     "name": "stdout",
     "output_type": "stream",
     "text": [
      "Dictionary: {'name': 'John', 'age': 25, 'city': 'New York'}\n"
     ]
    }
   ],
   "source": [
    "print(\"Dictionary:\",d1)"
   ]
  },
  {
   "cell_type": "code",
   "execution_count": 32,
   "id": "dc2e8d8e-e8e0-4b36-bc59-c82236b66d28",
   "metadata": {},
   "outputs": [],
   "source": [
    "d1['email'] = 'john@haha.com'"
   ]
  },
  {
   "cell_type": "code",
   "execution_count": 33,
   "id": "8ce31d18-9e05-492d-a542-c626aed134ee",
   "metadata": {},
   "outputs": [
    {
     "name": "stdout",
     "output_type": "stream",
     "text": [
      "New Dictionary: {'name': 'John', 'age': 25, 'city': 'New York', 'email': 'john@haha.com'}\n"
     ]
    }
   ],
   "source": [
    "print(\"New Dictionary:\",d1)"
   ]
  },
  {
   "cell_type": "code",
   "execution_count": 34,
   "id": "cd90f3ce-dfba-4b85-bb6c-1d629f6658db",
   "metadata": {},
   "outputs": [],
   "source": [
    "del d1['city']"
   ]
  },
  {
   "cell_type": "code",
   "execution_count": 35,
   "id": "20feefd9-deb4-4c28-8ee2-56da0e5b6ce7",
   "metadata": {},
   "outputs": [
    {
     "name": "stdout",
     "output_type": "stream",
     "text": [
      "Dictionary after removing city: {'name': 'John', 'age': 25, 'email': 'john@haha.com'}\n"
     ]
    }
   ],
   "source": [
    "print(\"Dictionary after removing city:\",d1)"
   ]
  },
  {
   "cell_type": "code",
   "execution_count": 36,
   "id": "2369e4f9-d9d3-44f3-9737-17d6ea923088",
   "metadata": {},
   "outputs": [],
   "source": [
    "d1['age'] = 30"
   ]
  },
  {
   "cell_type": "code",
   "execution_count": 37,
   "id": "4f6fec50-326b-485f-bd5e-a3945d34c753",
   "metadata": {},
   "outputs": [
    {
     "name": "stdout",
     "output_type": "stream",
     "text": [
      "Dictionary after changing age: {'name': 'John', 'age': 30, 'email': 'john@haha.com'}\n"
     ]
    }
   ],
   "source": [
    "print(\"Dictionary after changing age:\",d1)\n"
   ]
  },
  {
   "cell_type": "code",
   "execution_count": 38,
   "id": "55811ac0-82c7-490c-bf0d-a63048aff55b",
   "metadata": {},
   "outputs": [],
   "source": [
    "s1 = {1, 2, 3, 4, 5}"
   ]
  },
  {
   "cell_type": "code",
   "execution_count": 39,
   "id": "143f946a-c265-4dcd-86f3-09f72f582234",
   "metadata": {},
   "outputs": [
    {
     "name": "stdout",
     "output_type": "stream",
     "text": [
      "Set: {1, 2, 3, 4, 5}\n"
     ]
    }
   ],
   "source": [
    "print(\"Set:\",s1)"
   ]
  },
  {
   "cell_type": "code",
   "execution_count": 40,
   "id": "53680980-33a0-47f9-9c29-87615300e654",
   "metadata": {},
   "outputs": [],
   "source": [
    "s1.add(6)"
   ]
  },
  {
   "cell_type": "code",
   "execution_count": 41,
   "id": "50199b13-11b8-45d1-bb4c-755637c66b42",
   "metadata": {},
   "outputs": [
    {
     "name": "stdout",
     "output_type": "stream",
     "text": [
      "Set after adding element 6: {1, 2, 3, 4, 5, 6}\n"
     ]
    }
   ],
   "source": [
    "print(\"Set after adding element 6:\",s1)"
   ]
  },
  {
   "cell_type": "code",
   "execution_count": 42,
   "id": "1bde6dde-76e9-45d5-93c1-2975866bed89",
   "metadata": {},
   "outputs": [],
   "source": [
    "s1.remove(3)"
   ]
  },
  {
   "cell_type": "code",
   "execution_count": 43,
   "id": "28b5a35c-966c-4886-b093-1e8dfc931c79",
   "metadata": {},
   "outputs": [
    {
     "name": "stdout",
     "output_type": "stream",
     "text": [
      "Set after removing 3: {1, 2, 4, 5, 6}\n"
     ]
    }
   ],
   "source": [
    "print(\"Set after removing 3:\",s1)"
   ]
  },
  {
   "cell_type": "code",
   "execution_count": 44,
   "id": "d814f5a1-f823-40b3-9c24-b63186b56aa9",
   "metadata": {},
   "outputs": [],
   "source": [
    "s1.discard(2)\n",
    "s1.add(10)"
   ]
  },
  {
   "cell_type": "code",
   "execution_count": 45,
   "id": "d2cdb991-7483-47b8-956a-211ac8c074af",
   "metadata": {},
   "outputs": [
    {
     "name": "stdout",
     "output_type": "stream",
     "text": [
      "Modified set: {1, 4, 5, 6, 10}\n"
     ]
    }
   ],
   "source": [
    "print(\"Modified set:\",s1)"
   ]
  }
 ],
 "metadata": {
  "kernelspec": {
   "display_name": "Python 3 (ipykernel)",
   "language": "python",
   "name": "python3"
  },
  "language_info": {
   "codemirror_mode": {
    "name": "ipython",
    "version": 3
   },
   "file_extension": ".py",
   "mimetype": "text/x-python",
   "name": "python",
   "nbconvert_exporter": "python",
   "pygments_lexer": "ipython3",
   "version": "3.12.6"
  }
 },
 "nbformat": 4,
 "nbformat_minor": 5
}
